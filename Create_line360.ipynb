{
 "cells": [
  {
   "cell_type": "code",
   "execution_count": null,
   "metadata": {},
   "outputs": [],
   "source": [
    "from qgis.core import QgsProject, QgsVectorLayer, QgsPointXY, QgsFeature, QgsGeometry, QgsFields, QgsField, QgsWkbTypes\n",
    "from PyQt5.QtCore import QVariant\n",
    "import math\n",
    "\n",
    "def create_lines(center_x = 0.928678, center_y = 40.989026, radius = 0.01, num_points = 50):\n",
    "  lines_layer = QgsVectorLayer('LineString?crs=EPSG:4326', 'Circle Lines', 'memory')\n",
    "  lines_provider = lines_layer.dataProvider()\n",
    "  lines_fields = QgsFields()\n",
    "  lines_fields.append(QgsField('id', QVariant.Int))\n",
    "  lines_provider.addAttributes(lines_fields)\n",
    "  lines_layer.updateFields()\n",
    "  \n",
    "  center_point = QgsPointXY(center_x, center_y)\n",
    "  line_features = []\n",
    "  \n",
    "  for i in range(num_points):\n",
    "    angle = 2 * math.pi * i / num_points  \n",
    "    x = center_x + radius * math.cos(angle)\n",
    "    y = center_y + radius * math.sin(angle)\n",
    "    point = QgsPointXY(x, y)\n",
    "    \n",
    "    line_feature = QgsFeature()\n",
    "    line_feature.setGeometry(QgsGeometry.fromPolylineXY([center_point, point]))\n",
    "    line_feature.setAttributes([i + 1])\n",
    "    line_features.append(line_feature)\n",
    "  \n",
    "  lines_provider.addFeatures(line_features)\n",
    "  lines_layer.updateExtents()\n",
    "  QgsProject.instance().addMapLayer(lines_layer)\n",
    "\n",
    "create_lines()"
   ]
  }
 ],
 "metadata": {
  "language_info": {
   "name": "python"
  }
 },
 "nbformat": 4,
 "nbformat_minor": 2
}
